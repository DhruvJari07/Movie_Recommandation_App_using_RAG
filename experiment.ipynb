{
 "cells": [
  {
   "cell_type": "code",
   "execution_count": 1,
   "metadata": {},
   "outputs": [],
   "source": [
    "import os\n",
    "import pandas as pd\n",
    "from typing import List, Dict\n",
    "from warnings import simplefilter\n",
    "from langchain import hub\n",
    "from langchain_community.llms import HuggingFaceEndpoint\n",
    "from langchain.prompts import PromptTemplate\n",
    "from langchain_community.document_loaders import CSVLoader\n",
    "from langchain_community.embeddings import HuggingFaceEmbeddings\n",
    "from langchain_community.vectorstores import Chroma, LanceDB\n",
    "from langchain_text_splitters import (\n",
    "    RecursiveCharacterTextSplitter,\n",
    ")\n",
    "from langchain_community.embeddings.sentence_transformer import SentenceTransformerEmbeddings\n",
    "from langchain.chains import RetrievalQA\n",
    "from langchain.retrievers import ContextualCompressionRetriever\n",
    "from langchain.retrievers.document_compressors import LLMChainExtractor\n",
    "from dotenv import load_dotenv\n",
    "from langchain.retrievers import BM25Retriever, EnsembleRetriever\n",
    "from langchain.prompts import ChatPromptTemplate\n",
    "from langchain.output_parsers import ResponseSchema\n",
    "from langchain.output_parsers import StructuredOutputParser\n",
    "from langchain.schema.output_parser import StrOutputParser\n",
    "from langchain.schema.runnable import RunnablePassthrough\n",
    "from operator import itemgetter\n",
    "from tqdm import tqdm"
   ]
  },
  {
   "cell_type": "code",
   "execution_count": 4,
   "metadata": {},
   "outputs": [
    {
     "data": {
      "text/html": [
       "<div>\n",
       "<style scoped>\n",
       "    .dataframe tbody tr th:only-of-type {\n",
       "        vertical-align: middle;\n",
       "    }\n",
       "\n",
       "    .dataframe tbody tr th {\n",
       "        vertical-align: top;\n",
       "    }\n",
       "\n",
       "    .dataframe thead th {\n",
       "        text-align: right;\n",
       "    }\n",
       "</style>\n",
       "<table border=\"1\" class=\"dataframe\">\n",
       "  <thead>\n",
       "    <tr style=\"text-align: right;\">\n",
       "      <th></th>\n",
       "      <th>Release Year</th>\n",
       "      <th>Title</th>\n",
       "      <th>Origin/Ethnicity</th>\n",
       "      <th>Director</th>\n",
       "      <th>Cast</th>\n",
       "      <th>Genre</th>\n",
       "      <th>Wiki Page</th>\n",
       "      <th>Plot</th>\n",
       "    </tr>\n",
       "  </thead>\n",
       "  <tbody>\n",
       "    <tr>\n",
       "      <th>0</th>\n",
       "      <td>2010</td>\n",
       "      <td>127 Hours</td>\n",
       "      <td>American</td>\n",
       "      <td>Danny Boyle</td>\n",
       "      <td>James Franco, Amber Tamblyn, Kate Mara, Clémen...</td>\n",
       "      <td>biography, drama</td>\n",
       "      <td>https://en.wikipedia.org/wiki/127_Hours</td>\n",
       "      <td>Mountaineer Aron Ralston goes hiking at Utah's...</td>\n",
       "    </tr>\n",
       "    <tr>\n",
       "      <th>1</th>\n",
       "      <td>2010</td>\n",
       "      <td>The A-Team</td>\n",
       "      <td>American</td>\n",
       "      <td>Joe Carnahan</td>\n",
       "      <td>Liam Neeson, Bradley Cooper, Quinton \"Rampage\"...</td>\n",
       "      <td>action, adventure</td>\n",
       "      <td>https://en.wikipedia.org/wiki/The_A-Team_(film)</td>\n",
       "      <td>John \"Hannibal\" Smith is held captive in Mexic...</td>\n",
       "    </tr>\n",
       "    <tr>\n",
       "      <th>2</th>\n",
       "      <td>2010</td>\n",
       "      <td>A Little Help</td>\n",
       "      <td>American</td>\n",
       "      <td>Michael J. Weithorn</td>\n",
       "      <td>Jenna Fischer, Chris O'Donnell, Rob Benedict, ...</td>\n",
       "      <td>comedy</td>\n",
       "      <td>https://en.wikipedia.org/wiki/A_Little_Help</td>\n",
       "      <td>Laura Pehlke (Jenna Fischer) is married to Bob...</td>\n",
       "    </tr>\n",
       "    <tr>\n",
       "      <th>3</th>\n",
       "      <td>2010</td>\n",
       "      <td>Adventures of Power</td>\n",
       "      <td>American</td>\n",
       "      <td>Ari Gold</td>\n",
       "      <td>Ari Gold, Michael McKean, Jane Lynch, Shoshann...</td>\n",
       "      <td>comedy</td>\n",
       "      <td>https://en.wikipedia.org/wiki/Adventures_of_Power</td>\n",
       "      <td>The story takes place in the fictional small t...</td>\n",
       "    </tr>\n",
       "    <tr>\n",
       "      <th>4</th>\n",
       "      <td>2010</td>\n",
       "      <td>Alice in Wonderland</td>\n",
       "      <td>American</td>\n",
       "      <td>Tim Burton</td>\n",
       "      <td>Johnny Depp, Anne Hathaway, Helena Bonham Cart...</td>\n",
       "      <td>family, fantasy</td>\n",
       "      <td>https://en.wikipedia.org/wiki/Alice_in_Wonderl...</td>\n",
       "      <td>Troubled by a strange recurring dream and mour...</td>\n",
       "    </tr>\n",
       "  </tbody>\n",
       "</table>\n",
       "</div>"
      ],
      "text/plain": [
       "   Release Year                Title Origin/Ethnicity             Director  \\\n",
       "0          2010            127 Hours         American          Danny Boyle   \n",
       "1          2010           The A-Team         American         Joe Carnahan   \n",
       "2          2010        A Little Help         American  Michael J. Weithorn   \n",
       "3          2010  Adventures of Power         American             Ari Gold   \n",
       "4          2010  Alice in Wonderland         American           Tim Burton   \n",
       "\n",
       "                                                Cast              Genre  \\\n",
       "0  James Franco, Amber Tamblyn, Kate Mara, Clémen...   biography, drama   \n",
       "1  Liam Neeson, Bradley Cooper, Quinton \"Rampage\"...  action, adventure   \n",
       "2  Jenna Fischer, Chris O'Donnell, Rob Benedict, ...             comedy   \n",
       "3  Ari Gold, Michael McKean, Jane Lynch, Shoshann...             comedy   \n",
       "4  Johnny Depp, Anne Hathaway, Helena Bonham Cart...    family, fantasy   \n",
       "\n",
       "                                           Wiki Page  \\\n",
       "0            https://en.wikipedia.org/wiki/127_Hours   \n",
       "1    https://en.wikipedia.org/wiki/The_A-Team_(film)   \n",
       "2        https://en.wikipedia.org/wiki/A_Little_Help   \n",
       "3  https://en.wikipedia.org/wiki/Adventures_of_Power   \n",
       "4  https://en.wikipedia.org/wiki/Alice_in_Wonderl...   \n",
       "\n",
       "                                                Plot  \n",
       "0  Mountaineer Aron Ralston goes hiking at Utah's...  \n",
       "1  John \"Hannibal\" Smith is held captive in Mexic...  \n",
       "2  Laura Pehlke (Jenna Fischer) is married to Bob...  \n",
       "3  The story takes place in the fictional small t...  \n",
       "4  Troubled by a strange recurring dream and mour...  "
      ]
     },
     "execution_count": 4,
     "metadata": {},
     "output_type": "execute_result"
    }
   ],
   "source": [
    "df = pd.read_csv('Input_data/filtered_data.csv')\n",
    "df.head()"
   ]
  },
  {
   "cell_type": "code",
   "execution_count": 6,
   "metadata": {},
   "outputs": [
    {
     "data": {
      "text/plain": [
       "213"
      ]
     },
     "execution_count": 6,
     "metadata": {},
     "output_type": "execute_result"
    }
   ],
   "source": [
    "df = df[df[\"Release Year\"] == 2017]\n",
    "len(df)"
   ]
  },
  {
   "cell_type": "code",
   "execution_count": 7,
   "metadata": {},
   "outputs": [],
   "source": [
    "df.to_csv('./Input_data/test_data.csv', index=False)"
   ]
  },
  {
   "cell_type": "code",
   "execution_count": 8,
   "metadata": {},
   "outputs": [],
   "source": [
    "from dotenv import load_dotenv\n",
    "\n",
    "load_dotenv()\n",
    "\n",
    "os.environ[\"HUGGINGFACEHUB_API_TOKEN\"] = os.getenv('HF_TOKEN')\n",
    "os.environ[\"OPENAI_API_KEY\"] = os.getenv('OPENAI_API_KEY')"
   ]
  },
  {
   "cell_type": "code",
   "execution_count": 1,
   "metadata": {},
   "outputs": [],
   "source": [
    "from langchain_community.document_loaders import CSVLoader\n",
    "loader = CSVLoader(file_path='./Input_data/test_data.csv')\n",
    "data = loader.load()"
   ]
  },
  {
   "cell_type": "code",
   "execution_count": 2,
   "metadata": {},
   "outputs": [
    {
     "name": "stdout",
     "output_type": "stream",
     "text": [
      "Release Year: 2017\n",
      "Title: Rock Dog\n",
      "Origin/Ethnicity: American\n",
      "Director: Ash Brannon\n",
      "Cast: Ash Brannon (director/screenplay); Kurt Voelker (screenplay); Luke Wilson, Eddie Izzard, J. K. Simmons, Lewis Black, Kenan Thompson, Mae Whitman, Jorge Garcia, Matt Dillon, Sam Elliott\n",
      "Genre: animation, comedy\n",
      "Wiki Page: https://en.wikipedia.org/wiki/Rock_Dog\n",
      "Plot: Bodi (Luke Wilson) is a young Tibetan Mastiff who is expected to be the next guard of the village of Snow Mountain, succeeding his father Khampa (J. K. Simmons) after the latter has driven out a pack of gangster grey wolves led by the villainous Linnux (Lewis Black) years ago, but is sure they will return. Khampa has some of the local sheep dressed up as Mastiffs to give the illusion the village is being guarded by multiple Mastiffs to keep the wolves at bay, but Bodi has trouble perfecting his father's signature move the Iron Paw which projects a powerful blast that as Khampa states can only happen if Bodi \"finds the fire.\" Khampa has also forbidden music in the village since Bodi got distracted from his duties when he was younger.\n",
      "After a disastrous training session, Bodi accidentally and indirectly causes a nearby flying plane to drop a package. Among the items that fell out, Bodi becomes interested in a red radio and listens to some of the music on the stations before becoming entranced on rock music and idolizes British rock legend Angus Scattergood (Eddie Izzard). Bodi steals a traditional dramyin from a den of locked up instruments, adds additional strings to make it a conventional Western guitar, and begins neglecting his guard duties in favor of playing music, which puts him at odds with his father, especially since Bodi told him that he has decided to be a musician.\n",
      "After Khampa and some of the guard sheep accidentally cause Bodi to unleash a false alarm on the village while dressed as wolves (in an attempt to scare him straight) escalating into some fireworks being set off, the village elder Fleetwood Yak (Sam Elliott) convinces Khampa to let Bodi follow his dream and gives him a bus ticket to give to Bodi that will take him to a nearby city. Khampa gives Bodi the ticket, but makes him promise to give up music if his trip doesn't work out; the villagers and Fleetwood say goodbye to him after he leaves with his guitar. At the bus station, Bodi is discovered by two of Linnux's henchman, the short and comical Riff (Kenan Thompson) and the tall and silent Skozz. Riff informs Linnux of Bodi's departure and Linnux orders them to kidnap Bodi, reasoning that Bodi is his chance to take over Snow Mountain.\n",
      "When Bodi makes to the city, he heads to Rock and Roll Park since it's where Scattergood began his career. He attempts to join a band consisting of the down-to-earth fox Darma (Mae Whitman) and an absent-minded goat drummer named Germur (Jorge Garcia), who are the only members and therefore don't have an audience. However, Bodi is humiliated after losing a guitar contest to an arrogant snow leopard guitarist named Trey (Matt Dillon), who is amused with Bodi's naivety. Trey, discovering his idolization for Scattergood, manipulates Bodi into convincing Scattergood to give him some guitar lessons at his mansion, though he knows a little secret about Angus' security set-up. At Scattergood's mansion, he is revealed to be a white Persian cat who wears black sunglasses all the time and has a serious case of songwriter's block as his manager, Ian, has given him three days to unleash a new song or his career will go down. His only companion is his robot butler Ozzie.\n",
      "When Bodi tries to meet Scattergood, the latter is put off by Bodi's fanboy attitude and tries to evade him. Eventually, Bodi and Scattergood get lost in a back alley and Bodi decides to play music at Rock and Roll Park to get money for Scattergood to get back to his mansion. However, Riff and Skozz mistakenly kidnap Scattergood after they see Bodi at the park just when Bodi tries to convince a disbelieving Darma and Germur that he is with Scattergood. After Riff and Skozz realize their mistake, Linnux angrily sends them off to find Bodi again and they drop Scattergood off at his home. After Scattergood thinks that his career is over since he has less than a day to write a new song, he hears Bodi playing on his guitar and decides to use Bodi to create a new song. He invites Bodi into his home with the facade of a \"guitar lesson\" and together they create a new song called \"Glorious\".\n",
      "Bodi later realizes that he was used after hearing Scattergood take full credit for the song on a radio, which saddens him. Trey mocks Bodi and everyone in the park leaves, although Darma and Germur feel sorry for Bodi. Soon afterward, Bodi finally gets captured by Linnux's henchmen via tranquilizer darts and he accidentally - while slightly under the tranquilizer's effects - reveals the fake Mastiff guards when Linnux interrogates him for information. Linnux and his gang head off to Snow Mountain while Bodi is put into a boxing match at Linnux's Fight Club, but Bodi cleverly has his opponent break the cage surrounding them so he can escape.\n",
      "Meanwhile, Scattergood, after being guilt-tripped by Ozzie for exploiting Bodi for his own self-serving goals (Ozzie only needed to be recharged), uses his old tour bus to find Bodi. At Rock and Roll Park, Scattergood meets up with Darma and Germur and they discover that Bodi has been captured when they see his guitar covered in tranquilizer darts. Scattergood, with a change of heart, forgoes sending in his new song to rescue Bodi. After meeting with Bodi outside of Linnux's hideout, Scattergood makes amends with him by giving his old acoustic guitar with his autograph as a sign of gratitude and then takes him to Snow Mountain to stop Linnux and his henchmen.\n",
      "Linnux and his gang overpower Khampa and the whole village and attempt to devour the villagers, but Bodi appears. After a climatic chase, Bodi subdues the wolves by \"finding the fire\" by playing Scattergood's guitar and making the wolves, the villagers, and his friends levitate. Khampa banishes Linnux with his Iron Paw and accepts Bodi's ambition to play rock music.\n",
      "At the city, Scattergood gives full credit of the song \"Glorious\" to Bodi. Bodi forms a band with Darma and Germur as they (including Scattergood, Fleetwood, and the sheeps) sing and play \"Glorious\" to the city, the Snow Mountain villagers, Khampa, and most of the redeemed wolves (including Riff and Skozz) at Linnux's old Fight Palace. Outside, Trey tries to convince a bear bouncer that he's a part of the band, but is rejected. Scattergood recommends Bodi's band to Ian as Bodi shows the audience his blue energy wave.\n"
     ]
    }
   ],
   "source": [
    "print(data[28].page_content)"
   ]
  },
  {
   "cell_type": "code",
   "execution_count": 12,
   "metadata": {},
   "outputs": [
    {
     "name": "stderr",
     "output_type": "stream",
     "text": [
      "c:\\Users\\Dhruv\\anaconda3\\envs\\Movie_Recommand_RAG\\lib\\site-packages\\langchain_core\\_api\\deprecation.py:139: LangChainDeprecationWarning: The class `HuggingFaceEmbeddings` was deprecated in LangChain 0.2.2 and will be removed in 0.3.0. An updated version of the class exists in the langchain-huggingface package and should be used instead. To use it run `pip install -U langchain-huggingface` and import as `from langchain_huggingface import HuggingFaceEmbeddings`.\n",
      "  warn_deprecated(\n",
      "c:\\Users\\Dhruv\\anaconda3\\envs\\Movie_Recommand_RAG\\lib\\site-packages\\sentence_transformers\\cross_encoder\\CrossEncoder.py:11: TqdmWarning: IProgress not found. Please update jupyter and ipywidgets. See https://ipywidgets.readthedocs.io/en/stable/user_install.html\n",
      "  from tqdm.autonotebook import tqdm, trange\n",
      "c:\\Users\\Dhruv\\anaconda3\\envs\\Movie_Recommand_RAG\\lib\\site-packages\\huggingface_hub\\file_download.py:159: UserWarning: `huggingface_hub` cache-system uses symlinks by default to efficiently store duplicated files but your machine does not support them in C:\\Users\\Dhruv\\.cache\\huggingface\\hub\\models--sentence-transformers--all-MiniLM-L6-v2. Caching files will still work but in a degraded version that might require more space on your disk. This warning can be disabled by setting the `HF_HUB_DISABLE_SYMLINKS_WARNING` environment variable. For more details, see https://huggingface.co/docs/huggingface_hub/how-to-cache#limitations.\n",
      "To support symlinks on Windows, you either need to activate Developer Mode or to run Python as an administrator. In order to see activate developer mode, see this article: https://docs.microsoft.com/en-us/windows/apps/get-started/enable-your-device-for-development\n",
      "  warnings.warn(message)\n",
      "c:\\Users\\Dhruv\\anaconda3\\envs\\Movie_Recommand_RAG\\lib\\site-packages\\transformers\\tokenization_utils_base.py:1601: FutureWarning: `clean_up_tokenization_spaces` was not set. It will be set to `True` by default. This behavior will be depracted in transformers v4.45, and will be then set to `False` by default. For more details check this issue: https://github.com/huggingface/transformers/issues/31884\n",
      "  warnings.warn(\n"
     ]
    }
   ],
   "source": [
    "chunk_size = 1000\n",
    "chunk_overlap = 100\n",
    "top_k = 2\n",
    "embed_fn = SentenceTransformerEmbeddings(model_name=\"all-minilm-l6-v2\")"
   ]
  },
  {
   "cell_type": "code",
   "execution_count": 13,
   "metadata": {},
   "outputs": [],
   "source": [
    "persist_directory = 'db'"
   ]
  },
  {
   "cell_type": "code",
   "execution_count": 16,
   "metadata": {},
   "outputs": [],
   "source": [
    "text_splitter = RecursiveCharacterTextSplitter(chunk_size=chunk_size, chunk_overlap=chunk_overlap)\n",
    "docs = text_splitter.split_documents(data)\n",
    "bm25_retriever = BM25Retriever.from_documents(docs)\n",
    "bm25_retriever.k = top_k\n",
    "\n",
    "vectorstore = Chroma.from_documents(docs, embed_fn, persist_directory = persist_directory)\n",
    "chroma_retriever = vectorstore.as_retriever(search_kwargs={\"k\": 3})\n",
    "\n",
    "ensemble_retriever = EnsembleRetriever(retrievers=[bm25_retriever, chroma_retriever], weights=[0.75, 0.25])"
   ]
  },
  {
   "cell_type": "code",
   "execution_count": 21,
   "metadata": {},
   "outputs": [],
   "source": [
    "repo_id = 'mistralai/Mistral-7B-Instruct-v0.2'"
   ]
  },
  {
   "cell_type": "code",
   "execution_count": 18,
   "metadata": {},
   "outputs": [],
   "source": [
    "template = \"\"\"Based on the provided context, list the movies that match the query. If no relevant movies are found, respond with 'No Movies Found'. Provide the titles in the format: Movie_Title (Release Year). Do not provide any extra details regarding context or answer. Do not add any explanation for your answer.\n",
    "  ### CONTEXT\n",
    "  {context}\n",
    "  ### QUESTION\n",
    "  Question: {question}\n",
    "  ### ANSWER\n",
    "  Answer:\n",
    "  \"\"\"\n",
    "\n",
    "prompt = ChatPromptTemplate.from_template(template)"
   ]
  },
  {
   "cell_type": "code",
   "execution_count": 19,
   "metadata": {},
   "outputs": [],
   "source": [
    "def create_qa_chain(retriever):\n",
    "  primary_qa_llm = HuggingFaceEndpoint(\n",
    "    repo_id=repo_id, max_length=2048, temperature=0.5, huggingfacehub_api_token=os.getenv(\"HUGGINGFACEHUB_API_TOKEN\")\n",
    ")\n",
    "  created_qa_chain = (\n",
    "    {\"context\": itemgetter(\"question\") | retriever,\n",
    "     \"question\": itemgetter(\"question\")\n",
    "    }\n",
    "    | RunnablePassthrough.assign(\n",
    "        context=itemgetter(\"context\")\n",
    "      )\n",
    "    | {\n",
    "         \"response\": prompt | primary_qa_llm,\n",
    "         \"context\": itemgetter(\"context\"),\n",
    "      }\n",
    "  )\n",
    "\n",
    "  return created_qa_chain"
   ]
  },
  {
   "cell_type": "code",
   "execution_count": 22,
   "metadata": {},
   "outputs": [
    {
     "name": "stderr",
     "output_type": "stream",
     "text": [
      "c:\\Users\\Dhruv\\anaconda3\\envs\\Movie_Recommand_RAG\\lib\\site-packages\\langchain_core\\_api\\deprecation.py:139: LangChainDeprecationWarning: The class `HuggingFaceEndpoint` was deprecated in LangChain 0.0.37 and will be removed in 0.3. An updated version of the class exists in the langchain-huggingface package and should be used instead. To use it run `pip install -U langchain-huggingface` and import as `from langchain_huggingface import HuggingFaceEndpoint`.\n",
      "  warn_deprecated(\n",
      "WARNING! max_length is not default parameter.\n",
      "                    max_length was transferred to model_kwargs.\n",
      "                    Please make sure that max_length is what you intended.\n"
     ]
    },
    {
     "name": "stdout",
     "output_type": "stream",
     "text": [
      "The token has not been saved to the git credentials helper. Pass `add_to_git_credential=True` in this function directly or `--add-to-git-credential` if using via `huggingface-cli` if you want to set the git credential as well.\n",
      "Token is valid (permission: read).\n",
      "Your token has been saved to C:\\Users\\Dhruv\\.cache\\huggingface\\token\n",
      "Login successful\n"
     ]
    }
   ],
   "source": [
    "ensemble_chain = create_qa_chain(ensemble_retriever)"
   ]
  },
  {
   "cell_type": "code",
   "execution_count": 27,
   "metadata": {},
   "outputs": [
    {
     "data": {
      "text/plain": [
       "{'response': '1. Rock_Dog (2016)',\n",
       " 'context': [Document(metadata={'source': './Input_data/test_data.csv', 'row': 28}, page_content='Genre: animation, comedy\\nWiki Page: https://en.wikipedia.org/wiki/Rock_Dog\\nPlot: Bodi (Luke Wilson) is a young Tibetan Mastiff who is expected to be the next guard of the village of Snow Mountain, succeeding his father Khampa (J. K. Simmons) after the latter has driven out a pack of gangster grey wolves led by the villainous Linnux (Lewis Black) years ago, but is sure they will return. Khampa has some of the local sheep dressed up as Mastiffs to give the illusion the village is being guarded by multiple Mastiffs to keep the wolves at bay, but Bodi has trouble perfecting his father\\'s signature move the Iron Paw which projects a powerful blast that as Khampa states can only happen if Bodi \"finds the fire.\" Khampa has also forbidden music in the village since Bodi got distracted from his duties when he was younger.'),\n",
       "  Document(metadata={'source': './Input_data/test_data.csv', 'row': 28}, page_content=\"After Khampa and some of the guard sheep accidentally cause Bodi to unleash a false alarm on the village while dressed as wolves (in an attempt to scare him straight) escalating into some fireworks being set off, the village elder Fleetwood Yak (Sam Elliott) convinces Khampa to let Bodi follow his dream and gives him a bus ticket to give to Bodi that will take him to a nearby city. Khampa gives Bodi the ticket, but makes him promise to give up music if his trip doesn't work out; the villagers and Fleetwood say goodbye to him after he leaves with his guitar. At the bus station, Bodi is discovered by two of Linnux's henchman, the short and comical Riff (Kenan Thompson) and the tall and silent Skozz. Riff informs Linnux of Bodi's departure and Linnux orders them to kidnap Bodi, reasoning that Bodi is his chance to take over Snow Mountain.\"),\n",
       "  Document(metadata={'row': 63, 'source': './Input_data/test_data.csv'}, page_content='Release Year: 2017\\nTitle: Born in China\\nOrigin/Ethnicity: American\\nDirector: Lu Chuan\\nCast: Lu Chuan (director); David Fowler (screenplay); John Krasinski, Zhou Xun (narrator)\\nGenre: documentary\\nWiki Page: https://en.wikipedia.org/wiki/Born_in_China\\nPlot: This documentary follows four individual animal families-snow leopard, giant panda, chiru and golden snub-nosed monkey and their fortunes in the wilds of China.'),\n",
       "  Document(metadata={'row': 153, 'source': './Input_data/test_data.csv'}, page_content='Release Year: 2017\\nTitle: The Mountain Between Us\\nOrigin/Ethnicity: American\\nDirector: Hany Abu-Assad\\nCast: Hany Abu-Assad (director); Chris Weitz (screenplay); Idris Elba, Kate Winslet, Dermot Mulroney, Waleed Zuaiter\\nGenre: romance, disaster\\nWiki Page: https://en.wikipedia.org/wiki/The_Mountain_Between_Us_(film)')]}"
      ]
     },
     "execution_count": 27,
     "metadata": {},
     "output_type": "execute_result"
    }
   ],
   "source": [
    "ensemble_chain.invoke({\"question\" : \"Which movies involves a young Tibetan Mastiff who is expected to be the next guard of the village of Snow Mountain?\"})"
   ]
  },
  {
   "cell_type": "code",
   "execution_count": 28,
   "metadata": {},
   "outputs": [
    {
     "name": "stderr",
     "output_type": "stream",
     "text": [
      "c:\\Users\\Dhruv\\anaconda3\\envs\\Movie_Recommand_RAG\\lib\\site-packages\\langchain_core\\_api\\deprecation.py:139: LangChainDeprecationWarning: The class `Chroma` was deprecated in LangChain 0.2.9 and will be removed in 0.4. An updated version of the class exists in the langchain-chroma package and should be used instead. To use it run `pip install -U langchain-chroma` and import as `from langchain_chroma import Chroma`.\n",
      "  warn_deprecated(\n"
     ]
    }
   ],
   "source": [
    "persisted_vectordb = Chroma(persist_directory=persist_directory, embedding_function=embed_fn)\n",
    "persisted_chroma_retriever = persisted_vectordb.as_retriever(search_kwargs={\"k\": 3})\n",
    "\n",
    "persisted_ensemble_retriever = EnsembleRetriever(retrievers=[bm25_retriever, chroma_retriever], weights=[0.75, 0.25])"
   ]
  },
  {
   "cell_type": "code",
   "execution_count": 29,
   "metadata": {},
   "outputs": [
    {
     "name": "stderr",
     "output_type": "stream",
     "text": [
      "WARNING! max_length is not default parameter.\n",
      "                    max_length was transferred to model_kwargs.\n",
      "                    Please make sure that max_length is what you intended.\n"
     ]
    },
    {
     "name": "stdout",
     "output_type": "stream",
     "text": [
      "The token has not been saved to the git credentials helper. Pass `add_to_git_credential=True` in this function directly or `--add-to-git-credential` if using via `huggingface-cli` if you want to set the git credential as well.\n",
      "Token is valid (permission: read).\n",
      "Your token has been saved to C:\\Users\\Dhruv\\.cache\\huggingface\\token\n",
      "Login successful\n"
     ]
    }
   ],
   "source": [
    "persisted_ensemble_chain = create_qa_chain(persisted_ensemble_retriever)"
   ]
  },
  {
   "cell_type": "code",
   "execution_count": 30,
   "metadata": {},
   "outputs": [
    {
     "data": {
      "text/plain": [
       "{'response': '1. Rock_Dog (2016)',\n",
       " 'context': [Document(metadata={'source': './Input_data/test_data.csv', 'row': 28}, page_content='Genre: animation, comedy\\nWiki Page: https://en.wikipedia.org/wiki/Rock_Dog\\nPlot: Bodi (Luke Wilson) is a young Tibetan Mastiff who is expected to be the next guard of the village of Snow Mountain, succeeding his father Khampa (J. K. Simmons) after the latter has driven out a pack of gangster grey wolves led by the villainous Linnux (Lewis Black) years ago, but is sure they will return. Khampa has some of the local sheep dressed up as Mastiffs to give the illusion the village is being guarded by multiple Mastiffs to keep the wolves at bay, but Bodi has trouble perfecting his father\\'s signature move the Iron Paw which projects a powerful blast that as Khampa states can only happen if Bodi \"finds the fire.\" Khampa has also forbidden music in the village since Bodi got distracted from his duties when he was younger.'),\n",
       "  Document(metadata={'source': './Input_data/test_data.csv', 'row': 28}, page_content=\"After Khampa and some of the guard sheep accidentally cause Bodi to unleash a false alarm on the village while dressed as wolves (in an attempt to scare him straight) escalating into some fireworks being set off, the village elder Fleetwood Yak (Sam Elliott) convinces Khampa to let Bodi follow his dream and gives him a bus ticket to give to Bodi that will take him to a nearby city. Khampa gives Bodi the ticket, but makes him promise to give up music if his trip doesn't work out; the villagers and Fleetwood say goodbye to him after he leaves with his guitar. At the bus station, Bodi is discovered by two of Linnux's henchman, the short and comical Riff (Kenan Thompson) and the tall and silent Skozz. Riff informs Linnux of Bodi's departure and Linnux orders them to kidnap Bodi, reasoning that Bodi is his chance to take over Snow Mountain.\"),\n",
       "  Document(metadata={'row': 63, 'source': './Input_data/test_data.csv'}, page_content='Release Year: 2017\\nTitle: Born in China\\nOrigin/Ethnicity: American\\nDirector: Lu Chuan\\nCast: Lu Chuan (director); David Fowler (screenplay); John Krasinski, Zhou Xun (narrator)\\nGenre: documentary\\nWiki Page: https://en.wikipedia.org/wiki/Born_in_China\\nPlot: This documentary follows four individual animal families-snow leopard, giant panda, chiru and golden snub-nosed monkey and their fortunes in the wilds of China.'),\n",
       "  Document(metadata={'row': 153, 'source': './Input_data/test_data.csv'}, page_content='Release Year: 2017\\nTitle: The Mountain Between Us\\nOrigin/Ethnicity: American\\nDirector: Hany Abu-Assad\\nCast: Hany Abu-Assad (director); Chris Weitz (screenplay); Idris Elba, Kate Winslet, Dermot Mulroney, Waleed Zuaiter\\nGenre: romance, disaster\\nWiki Page: https://en.wikipedia.org/wiki/The_Mountain_Between_Us_(film)')]}"
      ]
     },
     "execution_count": 30,
     "metadata": {},
     "output_type": "execute_result"
    }
   ],
   "source": [
    "persisted_ensemble_chain.invoke({\"question\" : \"Which movies involves a young Tibetan Mastiff who is expected to be the next guard of the village of Snow Mountain?\"})"
   ]
  },
  {
   "cell_type": "code",
   "execution_count": 31,
   "metadata": {},
   "outputs": [],
   "source": [
    "bm25_file_path = 'bm25_index.pkl'"
   ]
  },
  {
   "cell_type": "code",
   "execution_count": 32,
   "metadata": {},
   "outputs": [],
   "source": [
    "import pickle \n",
    "def save_bm25_index(bm25_retriever, file_path):\n",
    "    with open(file_path, 'wb') as f:\n",
    "        pickle.dump(bm25_retriever, f)\n",
    "\n",
    "def load_bm25_index(file_path):\n",
    "    with open(file_path, 'rb') as f:\n",
    "        return pickle.load(f)"
   ]
  },
  {
   "cell_type": "code",
   "execution_count": 33,
   "metadata": {},
   "outputs": [],
   "source": [
    "save_bm25_index(bm25_retriever, bm25_file_path)"
   ]
  },
  {
   "cell_type": "code",
   "execution_count": 2,
   "metadata": {},
   "outputs": [
    {
     "name": "stderr",
     "output_type": "stream",
     "text": [
      "c:\\Users\\Dhruv\\anaconda3\\envs\\Movie_Recommand_RAG\\lib\\site-packages\\sentence_transformers\\cross_encoder\\CrossEncoder.py:11: TqdmWarning: IProgress not found. Please update jupyter and ipywidgets. See https://ipywidgets.readthedocs.io/en/stable/user_install.html\n",
      "  from tqdm.autonotebook import tqdm, trange\n"
     ]
    }
   ],
   "source": [
    "import streamlit as st\n",
    "from functions import *\n",
    "from constants import *\n",
    "from langchain.retrievers import EnsembleRetriever\n",
    "\n",
    "# Load the model and create the ensemble chain\n",
    "def load_model():\n",
    "    embed_fn = load_local_embedding_model(model_directory)\n",
    "    vectordb = Chroma(persist_directory=persist_directory, embedding_function=embed_fn)\n",
    "    chroma_retriever = vectordb.as_retriever(search_kwargs={\"k\": 3})\n",
    "    bm25_retriever = load_bm25_index(bm25_file_path)\n",
    "    ensemble_retriever = EnsembleRetriever(retrievers=[bm25_retriever, chroma_retriever], weights=[0.75, 0.25])\n",
    "    return create_qa_chain(ensemble_retriever)"
   ]
  },
  {
   "cell_type": "code",
   "execution_count": 3,
   "metadata": {},
   "outputs": [
    {
     "name": "stderr",
     "output_type": "stream",
     "text": [
      "c:\\Users\\Dhruv\\anaconda3\\envs\\Movie_Recommand_RAG\\lib\\site-packages\\langchain_core\\_api\\deprecation.py:139: LangChainDeprecationWarning: The class `HuggingFaceEmbeddings` was deprecated in LangChain 0.2.2 and will be removed in 0.3.0. An updated version of the class exists in the langchain-huggingface package and should be used instead. To use it run `pip install -U langchain-huggingface` and import as `from langchain_huggingface import HuggingFaceEmbeddings`.\n",
      "  warn_deprecated(\n",
      "c:\\Users\\Dhruv\\anaconda3\\envs\\Movie_Recommand_RAG\\lib\\site-packages\\langchain_core\\_api\\deprecation.py:139: LangChainDeprecationWarning: The class `Chroma` was deprecated in LangChain 0.2.9 and will be removed in 0.4. An updated version of the class exists in the langchain-chroma package and should be used instead. To use it run `pip install -U langchain-chroma` and import as `from langchain_chroma import Chroma`.\n",
      "  warn_deprecated(\n",
      "c:\\Users\\Dhruv\\anaconda3\\envs\\Movie_Recommand_RAG\\lib\\site-packages\\langchain_core\\_api\\deprecation.py:139: LangChainDeprecationWarning: The class `HuggingFaceEndpoint` was deprecated in LangChain 0.0.37 and will be removed in 0.3. An updated version of the class exists in the langchain-huggingface package and should be used instead. To use it run `pip install -U langchain-huggingface` and import as `from langchain_huggingface import HuggingFaceEndpoint`.\n",
      "  warn_deprecated(\n",
      "WARNING! max_length is not default parameter.\n",
      "                    max_length was transferred to model_kwargs.\n",
      "                    Please make sure that max_length is what you intended.\n"
     ]
    }
   ],
   "source": [
    "chain_retreiver = load_model()"
   ]
  },
  {
   "cell_type": "code",
   "execution_count": 5,
   "metadata": {},
   "outputs": [
    {
     "data": {
      "text/plain": [
       "{'response': '1. Rock Dog (2016)',\n",
       " 'context': [Document(metadata={'source': 'c:\\\\Users\\\\Dhruv\\\\OneDrive\\\\Desktop\\\\Git Repos\\\\Movie_Recommandation_App_using_RAG\\\\Input_data\\\\test_data.csv', 'row': 28}, page_content='Genre: animation, comedy\\nWiki Page: https://en.wikipedia.org/wiki/Rock_Dog\\nPlot: Bodi (Luke Wilson) is a young Tibetan Mastiff who is expected to be the next guard of the village of Snow Mountain, succeeding his father Khampa (J. K. Simmons) after the latter has driven out a pack of gangster grey wolves led by the villainous Linnux (Lewis Black) years ago, but is sure they will return. Khampa has some of the local sheep dressed up as Mastiffs to give the illusion the village is being guarded by multiple Mastiffs to keep the wolves at bay, but Bodi has trouble perfecting his father\\'s signature move the Iron Paw which projects a powerful blast that as Khampa states can only happen if Bodi \"finds the fire.\" Khampa has also forbidden music in the village since Bodi got distracted from his duties when he was younger.'),\n",
       "  Document(metadata={'source': 'c:\\\\Users\\\\Dhruv\\\\OneDrive\\\\Desktop\\\\Git Repos\\\\Movie_Recommandation_App_using_RAG\\\\Input_data\\\\test_data.csv', 'row': 28}, page_content=\"After Khampa and some of the guard sheep accidentally cause Bodi to unleash a false alarm on the village while dressed as wolves (in an attempt to scare him straight) escalating into some fireworks being set off, the village elder Fleetwood Yak (Sam Elliott) convinces Khampa to let Bodi follow his dream and gives him a bus ticket to give to Bodi that will take him to a nearby city. Khampa gives Bodi the ticket, but makes him promise to give up music if his trip doesn't work out; the villagers and Fleetwood say goodbye to him after he leaves with his guitar. At the bus station, Bodi is discovered by two of Linnux's henchman, the short and comical Riff (Kenan Thompson) and the tall and silent Skozz. Riff informs Linnux of Bodi's departure and Linnux orders them to kidnap Bodi, reasoning that Bodi is his chance to take over Snow Mountain.\")]}"
      ]
     },
     "execution_count": 5,
     "metadata": {},
     "output_type": "execute_result"
    }
   ],
   "source": [
    "chain_retreiver.invoke({\"question\" : \"Which movies involves a young Tibetan Mastiff who is expected to be the next guard of the village of Snow Mountain?\"})"
   ]
  },
  {
   "cell_type": "code",
   "execution_count": null,
   "metadata": {},
   "outputs": [],
   "source": []
  }
 ],
 "metadata": {
  "kernelspec": {
   "display_name": "AItextdetect",
   "language": "python",
   "name": "python3"
  },
  "language_info": {
   "codemirror_mode": {
    "name": "ipython",
    "version": 3
   },
   "file_extension": ".py",
   "mimetype": "text/x-python",
   "name": "python",
   "nbconvert_exporter": "python",
   "pygments_lexer": "ipython3",
   "version": "3.10.14"
  }
 },
 "nbformat": 4,
 "nbformat_minor": 2
}
